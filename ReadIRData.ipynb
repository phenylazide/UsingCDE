{
 "cells": [
  {
   "cell_type": "markdown",
   "metadata": {},
   "source": [
    "# Reading IR DATA from PDF Documents\n",
    "\n",
    "This section contains a modified example shown based on the [reading documents page](http://chemdataextractor.org/docs/reading) of the Chem Data Extractor (CDE) documentation. \n",
    "The example uses the IR Parser to try to extract data from documents (if it is present).\n",
    "\n",
    "The first part just tries to replicate the results of the test cases from the [test pages](https://github.com/CambridgeMolecularEngineering/chemdataextractor/blob/master/tests/test_parse_ir.py)."
   ]
  },
  {
   "cell_type": "code",
   "execution_count": 1,
   "metadata": {},
   "outputs": [
    {
     "name": "stdout",
     "output_type": "stream",
     "text": [
      "Input text:\n",
      " IR (ATR): ṽ [cm−1] 3024 (w), 2980 (w), 2918 (w), 1601 (w), 1485 (m), 1460 (m), 1438 (w), 1358 (w), 1290 (w), 1188 (w), 1115 (w), 1002 (m), 954 (m), 912 (w), 853 (m), 814 (s), 793 (s), 762 (s), 739 (m), 687 (s), 671 (m).\n",
      "Parsed IR Data:\n",
      "  {'ir_spectra': [{'solvent': 'ATR', 'peaks': [{'value': '3024', 'units': '[cm−1]', 'strength': 'w'}, {'value': '2980', 'units': '[cm−1]', 'strength': 'w'}, {'value': '2918', 'units': '[cm−1]', 'strength': 'w'}, {'value': '1601', 'units': '[cm−1]', 'strength': 'w'}, {'value': '1485', 'units': '[cm−1]', 'strength': 'm'}, {'value': '1460', 'units': '[cm−1]', 'strength': 'm'}, {'value': '1438', 'units': '[cm−1]', 'strength': 'w'}, {'value': '1358', 'units': '[cm−1]', 'strength': 'w'}, {'value': '1290', 'units': '[cm−1]', 'strength': 'w'}, {'value': '1188', 'units': '[cm−1]', 'strength': 'w'}, {'value': '1115', 'units': '[cm−1]', 'strength': 'w'}, {'value': '1002', 'units': '[cm−1]', 'strength': 'm'}, {'value': '954', 'units': '[cm−1]', 'strength': 'm'}, {'value': '912', 'units': '[cm−1]', 'strength': 'w'}, {'value': '853', 'units': '[cm−1]', 'strength': 'm'}, {'value': '814', 'units': '[cm−1]', 'strength': 's'}, {'value': '793', 'units': '[cm−1]', 'strength': 's'}, {'value': '762', 'units': '[cm−1]', 'strength': 's'}, {'value': '739', 'units': '[cm−1]', 'strength': 'm'}, {'value': '687', 'units': '[cm−1]', 'strength': 's'}, {'value': '671', 'units': '[cm−1]', 'strength': 'm'}]}]}\n",
      "Input text:\n",
      " IR (KBr/cm–1): 4321, 2222, 1734, 1300, 1049, 777, 620.\n",
      "Parsed IR Data:\n",
      "  {'ir_spectra': [{'solvent': 'KBr', 'peaks': [{'value': '4321', 'units': 'cm–1'}, {'value': '2222', 'units': 'cm–1'}, {'value': '1734', 'units': 'cm–1'}, {'value': '1300', 'units': 'cm–1'}, {'value': '1049', 'units': 'cm–1'}, {'value': '777', 'units': 'cm–1'}, {'value': '620', 'units': 'cm–1'}]}]}\n",
      "Input text:\n",
      " FTIR (KBr): ν/cm‒1 3315, 3002, 1630, 1593 (νCH=N), 1251;\n",
      "Parsed IR Data:\n",
      "  {'ir_spectra': [{'solvent': 'KBr', 'peaks': [{'value': '3315', 'units': 'cm‒1'}, {'value': '3002', 'units': 'cm‒1'}, {'value': '1630', 'units': 'cm‒1'}, {'value': '1593', 'units': 'cm‒1', 'bond': 'νCH = N'}, {'value': '1251', 'units': 'cm‒1'}]}]}\n",
      "Input text:\n",
      " IR-ATR:  3380, 3190,  2973, 2873, 1669, 1646, 1602, 1495, 1178, 828 cm-1.\n",
      "Parsed IR Data:\n",
      "  {'ir_spectra': [{'peaks': [{'value': '3380', 'units': 'cm-1'}, {'value': '3190', 'units': 'cm-1'}, {'value': '2973', 'units': 'cm-1'}, {'value': '2873', 'units': 'cm-1'}, {'value': '1669', 'units': 'cm-1'}, {'value': '1646', 'units': 'cm-1'}, {'value': '1602', 'units': 'cm-1'}, {'value': '1495', 'units': 'cm-1'}, {'value': '1178', 'units': 'cm-1'}, {'value': '828', 'units': 'cm-1'}]}]}\n",
      "Input text:\n",
      " Nicotine: FT-IR (KBr, cm-1): ν = 3025, 2970, 2870, 1691, 1677, 904, 717.\n",
      "Parsed IR Data:\n",
      "  {'ir_spectra': [{'solvent': 'KBr', 'peaks': [{'value': '3025', 'units': 'cm-1'}, {'value': '2970', 'units': 'cm-1'}, {'value': '2870', 'units': 'cm-1'}, {'value': '1691', 'units': 'cm-1'}, {'value': '1677', 'units': 'cm-1'}, {'value': '904', 'units': 'cm-1'}, {'value': '717', 'units': 'cm-1'}]}]}\n",
      "Input text:\n",
      " [MBNT]Cl: FT-IR (KBr, cm-1): ν =3412, 3043, 2958, 1632, 1610, 1451, 1197, 916, 703, 472\n",
      "Parsed IR Data:\n",
      "  {'ir_spectra': [{'solvent': 'KBr', 'peaks': [{'value': '3412', 'units': 'cm-1'}, {'value': '3043', 'units': 'cm-1'}, {'value': '2958', 'units': 'cm-1'}, {'value': '1632', 'units': 'cm-1'}, {'value': '1610', 'units': 'cm-1'}, {'value': '1451', 'units': 'cm-1'}, {'value': '1197', 'units': 'cm-1'}, {'value': '916', 'units': 'cm-1'}, {'value': '703', 'units': 'cm-1'}, {'value': '472', 'units': 'cm-1'}]}]}\n"
     ]
    }
   ],
   "source": [
    "# libraries for accessing sentences and for parsing IR data\n",
    "from chemdataextractor.doc.text import Sentence\n",
    "from chemdataextractor.parse.ir import ir, IrParser\n",
    "\n",
    "def ir_parse_print(input):\n",
    "    print(\"Input text:\\n\", input)\n",
    "    s = Sentence(input)\n",
    "    for c in IrParser().parse(s.tagged_tokens):\n",
    "        print(\"Parsed IR Data:\\n \" ,c.serialize())\n",
    "\n",
    "#test 1\n",
    "text = 'IR (ATR): ṽ [cm−1] 3024 (w), 2980 (w), 2918 (w), 1601 (w), 1485 (m), 1460 (m), 1438 (w), 1358 (w), ' \\\n",
    "    '1290 (w), 1188 (w), 1115 (w), 1002 (m), 954 (m), 912 (w), 853 (m), 814 (s), 793 (s), 762 (s), 739 (m), ' \\\n",
    "    '687 (s), 671 (m).'\n",
    "ir_parse_print(text)\n",
    "    \n",
    "#test 2    \n",
    "text = 'IR (KBr/cm–1): 4321, 2222, 1734, 1300, 1049, 777, 620.'\n",
    "ir_parse_print(text)\n",
    "\n",
    "#test 3\n",
    "text = 'FTIR (KBr): ν/cm‒1 3315, 3002, 1630, 1593 (νCH=N), 1251;'\n",
    "ir_parse_print(text)\n",
    "\n",
    "#test 4\n",
    "text = 'IR-ATR:  3380, 3190,  2973, 2873, 1669, 1646, 1602, 1495, 1178, 828 cm-1.'\n",
    "ir_parse_print(text)\n",
    "\n",
    "# the type of sentences in the article with band data\n",
    "from_article = \"Nicotine: FT-IR (KBr, cm-1): ν = 3025, 2970, 2870, 1691, 1677, 904, 717.\"\n",
    "ir_parse_print(from_article)\n",
    "from_article = \"[MBNT]Cl: FT-IR (KBr, cm-1): ν =3412, 3043, 2958, 1632, 1610, 1451, 1197, 916, 703, 472\"\n",
    "ir_parse_print(from_article)"
   ]
  },
  {
   "cell_type": "markdown",
   "metadata": {},
   "source": [
    "The next part is to try to read similar data strings from documents and parse them. For this we need an example which has the same tipe of sentences as the ones in the examples above. Most articles do not present information in these formats, however an example with supplementary information could be parsed to obtain the same data."
   ]
  },
  {
   "cell_type": "code",
   "execution_count": 2,
   "metadata": {},
   "outputs": [],
   "source": [
    "# The line of code (LOC) below imports the document object from the CDE library \n",
    "from chemdataextractor import Document\n",
    "\n",
    "# define the input file (put it in the same directory as the source files or add \n",
    "# the complete path to the file, e.g.\n",
    "# 'c:/users/user1/documents/file.pdf')\n",
    "\n",
    "# The file used in this example was obtained from:\n",
    "# http://www.rsc.org/suppdata/c5/ra/c5ra19028b/c5ra19028b1.pdf\n",
    "# This is the supplementary material for the article \n",
    "# https://pubs.rsc.org/en/content/articlelanding/2015/ra/c5ra19028b\n",
    "# Hajipour, A. R., Boostani, E., & Mohammadsaleh, F. (2015). \n",
    "# Copper (I) catalyzed Sonogashira reactions promoted by monobenzyl nicotinium chloride, \n",
    "# a N-donor quaternary ammonium salt. RSC Advances, 5(114), 94369-94374.\n",
    "filepath = \"IRSpectroscopy/c5ra19028b1.pdf\"\n",
    "\n",
    "# open de file in read binary mode\n",
    "f = open(filepath, 'rb')\n",
    "\n",
    "# create a document object from the file\n",
    "doc = Document.from_file(f)"
   ]
  },
  {
   "cell_type": "markdown",
   "metadata": {},
   "source": [
    "The document is made up of the paragraphs, each paragraph is an element (some are short because they include the title only).\n",
    "\n",
    "The elements of a document are part of a list. So list operations can be used to explore the list. "
   ]
  },
  {
   "cell_type": "code",
   "execution_count": 3,
   "metadata": {},
   "outputs": [
    {
     "data": {
      "text/plain": [
       "70"
      ]
     },
     "execution_count": 3,
     "metadata": {},
     "output_type": "execute_result"
    }
   ],
   "source": [
    "#To see the length of the elements list\n",
    "len(doc.elements)"
   ]
  },
  {
   "cell_type": "markdown",
   "metadata": {},
   "source": [
    "A paragraph in the document can be accessed using an index, as follows."
   ]
  },
  {
   "cell_type": "code",
   "execution_count": 4,
   "metadata": {},
   "outputs": [
    {
     "data": {
      "text/html": [
       "<p class=\"cde-paragraph\">Figure 1 FT-IR spectra, a)Nicotine, b)[MBNT]Cl, c)[MBNT][Cu4Cl5]</p>"
      ],
      "text/plain": [
       "Paragraph(id=None, references=[], text='Figure 1 FT-IR spectra, a)Nicotine, b)[MBNT]Cl, c)[MBNT][Cu4Cl5]')"
      ]
     },
     "execution_count": 4,
     "metadata": {},
     "output_type": "execute_result"
    }
   ],
   "source": [
    "# access an element on the list\n",
    "para = doc.elements[14]\n",
    "para"
   ]
  },
  {
   "cell_type": "markdown",
   "metadata": {},
   "source": [
    "Each element can be further explored as it is divided in sentences and tokens (not words because numbers, symbols, and punctuation characters are also considered tokens)"
   ]
  },
  {
   "cell_type": "code",
   "execution_count": 5,
   "metadata": {},
   "outputs": [
    {
     "name": "stdout",
     "output_type": "stream",
     "text": [
      "Figure 1 FT-IR spectra, a)Nicotine, b)[MBNT]Cl, c)[MBNT][Cu4Cl5]\n",
      "Sentences: 1\n",
      "Tokens: [[Token('Figure', 0, 6), Token('1', 7, 8), Token('FT-IR', 9, 14), Token('spectra', 15, 22), Token(',', 22, 23), Token('a)Nicotine', 24, 34), Token(',', 34, 35), Token('b)[MBNT]Cl', 36, 46), Token(',', 46, 47), Token('c)[MBNT][Cu4Cl5]', 48, 64)]]\n",
      "Tokens: 1\n",
      "Tokens: 10\n"
     ]
    }
   ],
   "source": [
    "print(para)\n",
    "print(\"Sentences:\", len(para.sentences))\n",
    "print(\"Tokens:\", para.tokens)\n",
    "print(\"Tokens:\", len(para.tokens))\n",
    "print(\"Tokens:\", len(para.tokens[0]))"
   ]
  },
  {
   "cell_type": "markdown",
   "metadata": {},
   "source": [
    "CDE also creates a special list of chemical entities (elements, compounds, types, etc.). These can be accessed as the cems list. The numbers next to each entity name indicate the position of the element in the text (start and end character)"
   ]
  },
  {
   "cell_type": "code",
   "execution_count": 6,
   "metadata": {},
   "outputs": [
    {
     "data": {
      "text/plain": [
       "[Span('monobenzyl \\nnicotinium chloride a N- donor quaternary ammonium', 54, 116),\n",
       " Span('monobenzyl nicotinium chloride', 47, 77),\n",
       " Span('DBNT][Cu4Cl5', 1, 13),\n",
       " Span('1H', 10, 12),\n",
       " Span('dibenzyl nicotinium chloride', 46, 74),\n",
       " Span('N', 0, 1),\n",
       " Span('OMe', 0, 3),\n",
       " Span('CDCl3', 18, 23),\n",
       " Span('Cl', 0, 2),\n",
       " Span('1H', 0, 2),\n",
       " Span('Copper(I)', 0, 9),\n",
       " Span('DMSO', 8, 12),\n",
       " Span('CDCl3', 8, 13),\n",
       " Span('13C', 10, 13),\n",
       " Span('dibenzyl nicotinium chlorid', 45, 72),\n",
       " Span('CDCl3', 19, 24),\n",
       " Span('monobenzyl nicotinium chlorid', 46, 75),\n",
       " Span('CDCl3', 17, 22),\n",
       " Span('CDCl3', 9, 14),\n",
       " Span('Nicotine', 0, 8),\n",
       " Span('13C', 0, 3),\n",
       " Span('1H', 9, 11)]"
      ]
     },
     "execution_count": 6,
     "metadata": {},
     "output_type": "execute_result"
    }
   ],
   "source": [
    "doc.cems"
   ]
  },
  {
   "cell_type": "markdown",
   "metadata": {},
   "source": [
    "The cems list contains all the occurrences of chemical entities, so there are repetitions. CDE provides the serialize  operation for summarising all entities, joining together abreviations, and capitalised or uncapitalised occurrences.\n",
    "As the following example shows it also extracts data when it is found in the appropriate format for parsing."
   ]
  },
  {
   "cell_type": "code",
   "execution_count": 7,
   "metadata": {},
   "outputs": [
    {
     "data": {
      "text/plain": [
       "18"
      ]
     },
     "execution_count": 7,
     "metadata": {},
     "output_type": "execute_result"
    }
   ],
   "source": [
    "serialised=doc.records.serialize()\n",
    "len(serialised)"
   ]
  },
  {
   "cell_type": "code",
   "execution_count": 8,
   "metadata": {},
   "outputs": [
    {
     "data": {
      "text/plain": [
       "[{'names': ['Copper(I)']},\n",
       " {'names': ['monobenzyl nicotinium chloride a N- donor quaternary ammonium']},\n",
       " {'names': ['Nicotine']},\n",
       " {'ir_spectra': [{'solvent': 'KBr',\n",
       "    'peaks': [{'value': '3025', 'units': 'cm-1'},\n",
       "     {'value': '2970', 'units': 'cm-1'},\n",
       "     {'value': '2870', 'units': 'cm-1'},\n",
       "     {'value': '1691', 'units': 'cm-1'},\n",
       "     {'value': '1677', 'units': 'cm-1'},\n",
       "     {'value': '904', 'units': 'cm-1'},\n",
       "     {'value': '717', 'units': 'cm-1'}]}]},\n",
       " {'ir_spectra': [{'solvent': 'KBr',\n",
       "    'peaks': [{'value': '3412', 'units': 'cm-1'},\n",
       "     {'value': '3043', 'units': 'cm-1'},\n",
       "     {'value': '2958', 'units': 'cm-1'},\n",
       "     {'value': '1632', 'units': 'cm-1'},\n",
       "     {'value': '1610', 'units': 'cm-1'},\n",
       "     {'value': '1451', 'units': 'cm-1'},\n",
       "     {'value': '1197', 'units': 'cm-1'},\n",
       "     {'value': '916', 'units': 'cm-1'},\n",
       "     {'value': '703', 'units': 'cm-1'},\n",
       "     {'value': '472', 'units': 'cm-1'}]}]},\n",
       " {'names': ['[DBNT][Cu4Cl5]']},\n",
       " {'ir_spectra': [{'solvent': 'KBr',\n",
       "    'peaks': [{'value': '3401', 'units': 'cm-1'},\n",
       "     {'value': '3040', 'units': 'cm-1'},\n",
       "     {'value': '2945', 'units': 'cm-1'},\n",
       "     {'value': '1635', 'units': 'cm-1'},\n",
       "     {'value': '1611', 'units': 'cm-1'},\n",
       "     {'value': '1455', 'units': 'cm-1'},\n",
       "     {'value': '1213', 'units': 'cm-1'},\n",
       "     {'value': '918', 'units': 'cm-1'},\n",
       "     {'value': '704', 'units': 'cm-1'},\n",
       "     {'value': '475', 'units': 'cm-1'}]}]},\n",
       " {'names': ['monobenzyl nicotinium chloride']},\n",
       " {'names': ['monobenzyl nicotinium chlorid']},\n",
       " {'names': ['dibenzyl nicotinium chloride']},\n",
       " {'names': ['dibenzyl nicotinium chlorid']},\n",
       " {'names': ['OMe']},\n",
       " {'names': ['13C']},\n",
       " {'names': ['Cl']},\n",
       " {'names': ['DMSO']},\n",
       " {'names': ['N']},\n",
       " {'names': ['1H-NMR']},\n",
       " {'names': ['CDCl3']}]"
      ]
     },
     "execution_count": 8,
     "metadata": {},
     "output_type": "execute_result"
    }
   ],
   "source": [
    "serialised"
   ]
  },
  {
   "cell_type": "code",
   "execution_count": null,
   "metadata": {},
   "outputs": [],
   "source": []
  }
 ],
 "metadata": {
  "kernelspec": {
   "display_name": "Python 3",
   "language": "python",
   "name": "python3"
  },
  "language_info": {
   "codemirror_mode": {
    "name": "ipython",
    "version": 3
   },
   "file_extension": ".py",
   "mimetype": "text/x-python",
   "name": "python",
   "nbconvert_exporter": "python",
   "pygments_lexer": "ipython3",
   "version": "3.6.10"
  }
 },
 "nbformat": 4,
 "nbformat_minor": 4
}
